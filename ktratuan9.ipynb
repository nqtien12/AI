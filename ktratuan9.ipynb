{
  "nbformat": 4,
  "nbformat_minor": 0,
  "metadata": {
    "colab": {
      "provenance": [],
      "authorship_tag": "ABX9TyMS51NwsFHenFajaUR9BRjR",
      "include_colab_link": true
    },
    "kernelspec": {
      "name": "python3",
      "display_name": "Python 3"
    },
    "language_info": {
      "name": "python"
    }
  },
  "cells": [
    {
      "cell_type": "markdown",
      "metadata": {
        "id": "view-in-github",
        "colab_type": "text"
      },
      "source": [
        "<a href=\"https://colab.research.google.com/github/nqtien12/AI/blob/main/ktratuan9.ipynb\" target=\"_parent\"><img src=\"https://colab.research.google.com/assets/colab-badge.svg\" alt=\"Open In Colab\"/></a>"
      ]
    },
    {
      "cell_type": "code",
      "execution_count": null,
      "metadata": {
        "id": "JFaE3W7-oTZF"
      },
      "outputs": [],
      "source": []
    },
    {
      "cell_type": "code",
      "source": [
        "#Nguyễn Quốc Tiến _ 20146538\n",
        "from sklearn.linear_model import Perceptron\n",
        "from sklearn import datasets\n",
        "from sklearn.model_selection import train_test_split\n",
        "from sklearn.metrics import accuracy_score\n",
        "from sklearn.preprocessing import StandardScaler\n",
        "import seaborn as sas\n",
        "import pandas as pd\n",
        "import numpy as np\n",
        "\n",
        "data = pd.read_csv('lung_cancer_examples.csv')\n",
        "print(data.head())\n",
        "print(data.shape)\n",
        "\n",
        "data.drop(data.columns[[0,1]], axis=1, inplace=True)\n",
        "data.head()\n",
        "\n",
        "X = data[['Age','Smokes', 'AreaQ', 'Alkhol']].to_numpy()\n",
        "y = data['Result'].to_numpy()\n",
        "X_train, X_test, y_train, y_test = train_test_split(X, y, test_size=0.3)\n",
        "sc = StandardScaler()\n",
        "sc.fit(X_train)\n",
        "X_train_std = sc.transform(X_train)\n",
        "X_test_std = sc.transform(X_test)\n",
        "\n",
        "model = Perceptron(max_iter=100, eta0=0.1, random_state=0) #max_iter: số lần học, eta0: tốc độ học (càng lớn, sai số càng nhiều)\n",
        "model.fit(X_train_std,y_train)\n",
        "y_pred = model.predict(X_test_std)\n",
        "print(y_pred)\n",
        "print(\"Độ chính xác của mô hình \", accuracy_score(y_test,y_pred))"
      ],
      "metadata": {
        "colab": {
          "base_uri": "https://localhost:8080/",
          "height": 130
        },
        "id": "lwejB8bIo-MU",
        "outputId": "17747ed2-5b58-4763-ec63-a0e471051b4f"
      },
      "execution_count": 14,
      "outputs": [
        {
          "output_type": "error",
          "ename": "SyntaxError",
          "evalue": "ignored",
          "traceback": [
            "\u001b[0;36m  File \u001b[0;32m\"<ipython-input-14-1e0a77c18ddb>\"\u001b[0;36m, line \u001b[0;32m1\u001b[0m\n\u001b[0;31m    //Nguyễn Quốc Tiến 2016538\u001b[0m\n\u001b[0m    ^\u001b[0m\n\u001b[0;31mSyntaxError\u001b[0m\u001b[0;31m:\u001b[0m invalid syntax\n"
          ]
        }
      ]
    },
    {
      "cell_type": "code",
      "source": [],
      "metadata": {
        "id": "KDamJKExpyv3"
      },
      "execution_count": null,
      "outputs": []
    }
  ]
}