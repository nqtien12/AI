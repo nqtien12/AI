{
  "cells": [
    {
      "cell_type": "markdown",
      "metadata": {
        "id": "view-in-github",
        "colab_type": "text"
      },
      "source": [
        "<a href=\"https://colab.research.google.com/github/nqtien12/AI/blob/main/trafficsigns.ipynb\" target=\"_parent\"><img src=\"https://colab.research.google.com/assets/colab-badge.svg\" alt=\"Open In Colab\"/></a>"
      ]
    },
    {
      "cell_type": "code",
      "execution_count": null,
      "metadata": {
        "id": "vbegqJ1lyd0c"
      },
      "outputs": [],
      "source": [
        "from google.colab import drive\n",
        "drive.mount('/content/drive')"
      ]
    },
    {
      "cell_type": "code",
      "execution_count": 2,
      "metadata": {
        "colab": {
          "base_uri": "https://localhost:8080/"
        },
        "id": "Dn5X4QrWnErU",
        "outputId": "bcf1343f-1ab9-452b-fe08-277aee7b0168"
      },
      "outputs": [
        {
          "output_type": "stream",
          "name": "stdout",
          "text": [
            "Mounted at /content/drive\n",
            "Found 1010 images belonging to 30 classes.\n",
            "Found 96 images belonging to 30 classes.\n"
          ]
        }
      ],
      "source": [
        "from tensorflow.keras.preprocessing.image import ImageDataGenerator\n",
        "drive.mount('/content/drive',force_remount=True)\n",
        "\n",
        "train_datagen = ImageDataGenerator(rescale=1./255,\n",
        "                                   shear_range=0.2,\n",
        "                                   zoom_range=0.2,\n",
        "                                   horizontal_flip=True)\n",
        "train=train_datagen.flow_from_directory('/content/drive/MyDrive/AI_final/Train',\n",
        "                                               target_size=(64,64),\n",
        "                                               batch_size=32,\n",
        "                                               class_mode ='categorical')\n",
        "test=train_datagen.flow_from_directory('/content/drive/MyDrive/AI_final/Test',\n",
        "                                               target_size=(64,64),\n",
        "                                               batch_size=32,\n",
        "                                               class_mode ='categorical')"
      ]
    },
    {
      "cell_type": "code",
      "source": [
        "import tensorflow as tf\n",
        "from tensorflow import keras\n",
        "from keras.models import Sequential\n",
        "from keras.layers.convolutional import Conv2D, MaxPooling2D\n",
        "from keras.layers import Flatten, Dense, Dropout, Activation\n",
        "\n",
        "model = Sequential()\n",
        "model.add(Conv2D(32,(3,3),activation = 'relu',kernel_initializer='he_uniform',padding='same',input_shape=(64,64,3)))\n",
        "model.add(Conv2D(32,(3,3),activation = 'relu',kernel_initializer='he_uniform',padding='same'))\n",
        "model.add(MaxPooling2D((2,2)))\n",
        "model.add(Dropout(0.2))\n",
        "model.add(Conv2D(64,(3,3),activation = 'relu',kernel_initializer='he_uniform',padding='same'))\n",
        "model.add(Conv2D(64,(3,3),activation = 'relu',kernel_initializer='he_uniform',padding='same'))\n",
        "model.add(MaxPooling2D((2,2)))\n",
        "model.add(Dropout(0.2))\n",
        "model.add(Conv2D(128,(3,3),activation = 'relu',kernel_initializer='he_uniform',padding='same'))\n",
        "model.add(Conv2D(128,(3,3),activation = 'relu',kernel_initializer='he_uniform',padding='same'))\n",
        "model.add(MaxPooling2D((2,2)))\n",
        "model.add(Dropout(0.2))\n",
        "model.add(Flatten())\n",
        "model.add(Dense(256,activation='relu',kernel_initializer = 'he_uniform'))\n",
        "model.add(Dropout(0.2))\n",
        "model.add(Dense(128,activation='relu',kernel_initializer = 'he_uniform'))\n",
        "model.add(Dropout(0.2))\n",
        "model.add(Dense(30,activation='softmax'))\n",
        "\n",
        "model.summary()\n",
        "     "
      ],
      "metadata": {
        "colab": {
          "base_uri": "https://localhost:8080/"
        },
        "id": "vH8_WfTma-aJ",
        "outputId": "54069cd3-263d-48e8-9d76-bf08425fd1d2"
      },
      "execution_count": 3,
      "outputs": [
        {
          "output_type": "stream",
          "name": "stdout",
          "text": [
            "Model: \"sequential\"\n",
            "_________________________________________________________________\n",
            " Layer (type)                Output Shape              Param #   \n",
            "=================================================================\n",
            " conv2d (Conv2D)             (None, 64, 64, 32)        896       \n",
            "                                                                 \n",
            " conv2d_1 (Conv2D)           (None, 64, 64, 32)        9248      \n",
            "                                                                 \n",
            " max_pooling2d (MaxPooling2D  (None, 32, 32, 32)       0         \n",
            " )                                                               \n",
            "                                                                 \n",
            " dropout (Dropout)           (None, 32, 32, 32)        0         \n",
            "                                                                 \n",
            " conv2d_2 (Conv2D)           (None, 32, 32, 64)        18496     \n",
            "                                                                 \n",
            " conv2d_3 (Conv2D)           (None, 32, 32, 64)        36928     \n",
            "                                                                 \n",
            " max_pooling2d_1 (MaxPooling  (None, 16, 16, 64)       0         \n",
            " 2D)                                                             \n",
            "                                                                 \n",
            " dropout_1 (Dropout)         (None, 16, 16, 64)        0         \n",
            "                                                                 \n",
            " conv2d_4 (Conv2D)           (None, 16, 16, 128)       73856     \n",
            "                                                                 \n",
            " conv2d_5 (Conv2D)           (None, 16, 16, 128)       147584    \n",
            "                                                                 \n",
            " max_pooling2d_2 (MaxPooling  (None, 8, 8, 128)        0         \n",
            " 2D)                                                             \n",
            "                                                                 \n",
            " dropout_2 (Dropout)         (None, 8, 8, 128)         0         \n",
            "                                                                 \n",
            " flatten (Flatten)           (None, 8192)              0         \n",
            "                                                                 \n",
            " dense (Dense)               (None, 256)               2097408   \n",
            "                                                                 \n",
            " dropout_3 (Dropout)         (None, 256)               0         \n",
            "                                                                 \n",
            " dense_1 (Dense)             (None, 128)               32896     \n",
            "                                                                 \n",
            " dropout_4 (Dropout)         (None, 128)               0         \n",
            "                                                                 \n",
            " dense_2 (Dense)             (None, 30)                3870      \n",
            "                                                                 \n",
            "=================================================================\n",
            "Total params: 2,421,182\n",
            "Trainable params: 2,421,182\n",
            "Non-trainable params: 0\n",
            "_________________________________________________________________\n"
          ]
        }
      ]
    },
    {
      "cell_type": "code",
      "source": [
        "# Thiết lập thông số\n",
        "from keras.optimizers import Adam\n",
        "model.compile( loss = 'categorical_crossentropy', optimizer=Adam(), metrics = ['accuracy'])"
      ],
      "metadata": {
        "id": "ymZOSlRRcdoJ"
      },
      "execution_count": 4,
      "outputs": []
    },
    {
      "cell_type": "code",
      "source": [
        "# Training \n",
        "history = model.fit_generator( train, validation_data=test, epochs=80, steps_per_epoch=len(train), \n",
        "                        validation_steps=len(test))\n",
        "\n"
      ],
      "metadata": {
        "colab": {
          "base_uri": "https://localhost:8080/"
        },
        "id": "O6dqpf0ycx66",
        "outputId": "26ddd7ab-4ed2-4e65-83a7-c88fda0afbc4"
      },
      "execution_count": 5,
      "outputs": [
        {
          "output_type": "stream",
          "name": "stderr",
          "text": [
            "<ipython-input-5-3f57a21db6d6>:2: UserWarning: `Model.fit_generator` is deprecated and will be removed in a future version. Please use `Model.fit`, which supports generators.\n",
            "  history = model.fit_generator( train, validation_data=test, epochs=80, steps_per_epoch=len(train),\n"
          ]
        },
        {
          "output_type": "stream",
          "name": "stdout",
          "text": [
            "Epoch 1/80\n",
            "32/32 [==============================] - 143s 4s/step - loss: 3.6582 - accuracy: 0.0545 - val_loss: 3.3938 - val_accuracy: 0.0625\n",
            "Epoch 2/80\n",
            "32/32 [==============================] - 40s 1s/step - loss: 3.3524 - accuracy: 0.0594 - val_loss: 3.3910 - val_accuracy: 0.0312\n",
            "Epoch 3/80\n",
            "32/32 [==============================] - 39s 1s/step - loss: 3.3132 - accuracy: 0.0782 - val_loss: 3.3688 - val_accuracy: 0.0625\n",
            "Epoch 4/80\n",
            "32/32 [==============================] - 38s 1s/step - loss: 3.1539 - accuracy: 0.1356 - val_loss: 3.3249 - val_accuracy: 0.1042\n",
            "Epoch 5/80\n",
            "32/32 [==============================] - 40s 1s/step - loss: 2.5570 - accuracy: 0.3119 - val_loss: 3.6168 - val_accuracy: 0.1875\n",
            "Epoch 6/80\n",
            "32/32 [==============================] - 40s 1s/step - loss: 1.8565 - accuracy: 0.4634 - val_loss: 3.9483 - val_accuracy: 0.2396\n",
            "Epoch 7/80\n",
            "32/32 [==============================] - 38s 1s/step - loss: 1.3383 - accuracy: 0.6149 - val_loss: 4.2639 - val_accuracy: 0.3438\n",
            "Epoch 8/80\n",
            "32/32 [==============================] - 38s 1s/step - loss: 1.0148 - accuracy: 0.6812 - val_loss: 4.1200 - val_accuracy: 0.4479\n",
            "Epoch 9/80\n",
            "32/32 [==============================] - 45s 1s/step - loss: 0.8516 - accuracy: 0.7366 - val_loss: 5.1624 - val_accuracy: 0.4271\n",
            "Epoch 10/80\n",
            "32/32 [==============================] - 40s 1s/step - loss: 0.7469 - accuracy: 0.7644 - val_loss: 4.8460 - val_accuracy: 0.3646\n",
            "Epoch 11/80\n",
            "32/32 [==============================] - 38s 1s/step - loss: 0.5964 - accuracy: 0.8010 - val_loss: 4.9404 - val_accuracy: 0.4167\n",
            "Epoch 12/80\n",
            "32/32 [==============================] - 40s 1s/step - loss: 0.4855 - accuracy: 0.8436 - val_loss: 5.7619 - val_accuracy: 0.4896\n",
            "Epoch 13/80\n",
            "32/32 [==============================] - 41s 1s/step - loss: 0.4675 - accuracy: 0.8535 - val_loss: 6.3252 - val_accuracy: 0.4896\n",
            "Epoch 14/80\n",
            "32/32 [==============================] - 38s 1s/step - loss: 0.4436 - accuracy: 0.8455 - val_loss: 5.6344 - val_accuracy: 0.4792\n",
            "Epoch 15/80\n",
            "32/32 [==============================] - 39s 1s/step - loss: 0.3359 - accuracy: 0.8762 - val_loss: 7.9076 - val_accuracy: 0.5208\n",
            "Epoch 16/80\n",
            "32/32 [==============================] - 39s 1s/step - loss: 0.3332 - accuracy: 0.8921 - val_loss: 6.2253 - val_accuracy: 0.4688\n",
            "Epoch 17/80\n",
            "32/32 [==============================] - 39s 1s/step - loss: 0.3143 - accuracy: 0.9000 - val_loss: 6.9883 - val_accuracy: 0.4896\n",
            "Epoch 18/80\n",
            "32/32 [==============================] - 41s 1s/step - loss: 0.2858 - accuracy: 0.9010 - val_loss: 7.1425 - val_accuracy: 0.5000\n",
            "Epoch 19/80\n",
            "32/32 [==============================] - 41s 1s/step - loss: 0.2206 - accuracy: 0.9119 - val_loss: 8.1444 - val_accuracy: 0.5312\n",
            "Epoch 20/80\n",
            "32/32 [==============================] - 38s 1s/step - loss: 0.2264 - accuracy: 0.9277 - val_loss: 8.5018 - val_accuracy: 0.5417\n",
            "Epoch 21/80\n",
            "32/32 [==============================] - 38s 1s/step - loss: 0.2307 - accuracy: 0.9139 - val_loss: 8.1271 - val_accuracy: 0.4688\n",
            "Epoch 22/80\n",
            "32/32 [==============================] - 40s 1s/step - loss: 0.2289 - accuracy: 0.9149 - val_loss: 7.1970 - val_accuracy: 0.5104\n",
            "Epoch 23/80\n",
            "32/32 [==============================] - 40s 1s/step - loss: 0.2012 - accuracy: 0.9238 - val_loss: 8.6822 - val_accuracy: 0.5208\n",
            "Epoch 24/80\n",
            "32/32 [==============================] - 38s 1s/step - loss: 0.2099 - accuracy: 0.9277 - val_loss: 7.6383 - val_accuracy: 0.4792\n",
            "Epoch 25/80\n",
            "32/32 [==============================] - 38s 1s/step - loss: 0.1957 - accuracy: 0.9238 - val_loss: 8.1352 - val_accuracy: 0.5208\n",
            "Epoch 26/80\n",
            "32/32 [==============================] - 40s 1s/step - loss: 0.2012 - accuracy: 0.9198 - val_loss: 6.9411 - val_accuracy: 0.5104\n",
            "Epoch 27/80\n",
            "32/32 [==============================] - 39s 1s/step - loss: 0.1559 - accuracy: 0.9366 - val_loss: 6.8233 - val_accuracy: 0.5208\n",
            "Epoch 28/80\n",
            "32/32 [==============================] - 38s 1s/step - loss: 0.1774 - accuracy: 0.9317 - val_loss: 8.9530 - val_accuracy: 0.4896\n",
            "Epoch 29/80\n",
            "32/32 [==============================] - 40s 1s/step - loss: 0.2014 - accuracy: 0.9287 - val_loss: 9.1039 - val_accuracy: 0.4792\n",
            "Epoch 30/80\n",
            "32/32 [==============================] - 41s 1s/step - loss: 0.1877 - accuracy: 0.9317 - val_loss: 7.9372 - val_accuracy: 0.5104\n",
            "Epoch 31/80\n",
            "32/32 [==============================] - 38s 1s/step - loss: 0.1553 - accuracy: 0.9416 - val_loss: 10.0940 - val_accuracy: 0.5312\n",
            "Epoch 32/80\n",
            "32/32 [==============================] - 39s 1s/step - loss: 0.1459 - accuracy: 0.9505 - val_loss: 8.9255 - val_accuracy: 0.5000\n",
            "Epoch 33/80\n",
            "32/32 [==============================] - 40s 1s/step - loss: 0.1766 - accuracy: 0.9337 - val_loss: 8.1852 - val_accuracy: 0.5312\n",
            "Epoch 34/80\n",
            "32/32 [==============================] - 38s 1s/step - loss: 0.1257 - accuracy: 0.9515 - val_loss: 11.5164 - val_accuracy: 0.4792\n",
            "Epoch 35/80\n",
            "32/32 [==============================] - 39s 1s/step - loss: 0.1346 - accuracy: 0.9446 - val_loss: 9.0107 - val_accuracy: 0.5104\n",
            "Epoch 36/80\n",
            "32/32 [==============================] - 40s 1s/step - loss: 0.1134 - accuracy: 0.9535 - val_loss: 10.2358 - val_accuracy: 0.5417\n",
            "Epoch 37/80\n",
            "32/32 [==============================] - 37s 1s/step - loss: 0.1618 - accuracy: 0.9475 - val_loss: 8.8324 - val_accuracy: 0.5417\n",
            "Epoch 38/80\n",
            "32/32 [==============================] - 37s 1s/step - loss: 0.1399 - accuracy: 0.9455 - val_loss: 8.8552 - val_accuracy: 0.5208\n",
            "Epoch 39/80\n",
            "32/32 [==============================] - 38s 1s/step - loss: 0.1326 - accuracy: 0.9347 - val_loss: 9.4337 - val_accuracy: 0.5000\n",
            "Epoch 40/80\n",
            "32/32 [==============================] - 40s 1s/step - loss: 0.1259 - accuracy: 0.9396 - val_loss: 11.4569 - val_accuracy: 0.5104\n",
            "Epoch 41/80\n",
            "32/32 [==============================] - 41s 1s/step - loss: 0.1853 - accuracy: 0.9267 - val_loss: 8.9663 - val_accuracy: 0.4896\n",
            "Epoch 42/80\n",
            "32/32 [==============================] - 38s 1s/step - loss: 0.1586 - accuracy: 0.9327 - val_loss: 9.9507 - val_accuracy: 0.5000\n",
            "Epoch 43/80\n",
            "32/32 [==============================] - 40s 1s/step - loss: 0.1266 - accuracy: 0.9436 - val_loss: 10.0884 - val_accuracy: 0.5312\n",
            "Epoch 44/80\n",
            "32/32 [==============================] - 40s 1s/step - loss: 0.1054 - accuracy: 0.9505 - val_loss: 10.2137 - val_accuracy: 0.5000\n",
            "Epoch 45/80\n",
            "32/32 [==============================] - 38s 1s/step - loss: 0.1320 - accuracy: 0.9455 - val_loss: 9.7131 - val_accuracy: 0.5417\n",
            "Epoch 46/80\n",
            "32/32 [==============================] - 38s 1s/step - loss: 0.1224 - accuracy: 0.9455 - val_loss: 10.0350 - val_accuracy: 0.5104\n",
            "Epoch 47/80\n",
            "32/32 [==============================] - 40s 1s/step - loss: 0.1229 - accuracy: 0.9396 - val_loss: 9.5949 - val_accuracy: 0.5312\n",
            "Epoch 48/80\n",
            "32/32 [==============================] - 38s 1s/step - loss: 0.1240 - accuracy: 0.9436 - val_loss: 11.1356 - val_accuracy: 0.5000\n",
            "Epoch 49/80\n",
            "32/32 [==============================] - 40s 1s/step - loss: 0.1085 - accuracy: 0.9515 - val_loss: 10.6895 - val_accuracy: 0.5000\n",
            "Epoch 50/80\n",
            "32/32 [==============================] - 40s 1s/step - loss: 0.0966 - accuracy: 0.9624 - val_loss: 11.0922 - val_accuracy: 0.5208\n",
            "Epoch 51/80\n",
            "32/32 [==============================] - 38s 1s/step - loss: 0.1230 - accuracy: 0.9455 - val_loss: 9.1977 - val_accuracy: 0.5208\n",
            "Epoch 52/80\n",
            "32/32 [==============================] - 38s 1s/step - loss: 0.1457 - accuracy: 0.9475 - val_loss: 8.9734 - val_accuracy: 0.5417\n",
            "Epoch 53/80\n",
            "32/32 [==============================] - 40s 1s/step - loss: 0.1048 - accuracy: 0.9584 - val_loss: 11.0236 - val_accuracy: 0.5000\n",
            "Epoch 54/80\n",
            "32/32 [==============================] - 40s 1s/step - loss: 0.0877 - accuracy: 0.9574 - val_loss: 11.1884 - val_accuracy: 0.5417\n",
            "Epoch 55/80\n",
            "32/32 [==============================] - 38s 1s/step - loss: 0.0867 - accuracy: 0.9604 - val_loss: 11.2618 - val_accuracy: 0.5208\n",
            "Epoch 56/80\n",
            "32/32 [==============================] - 38s 1s/step - loss: 0.1030 - accuracy: 0.9594 - val_loss: 12.2052 - val_accuracy: 0.5312\n",
            "Epoch 57/80\n",
            "32/32 [==============================] - 40s 1s/step - loss: 0.0736 - accuracy: 0.9614 - val_loss: 11.3025 - val_accuracy: 0.5208\n",
            "Epoch 58/80\n",
            "32/32 [==============================] - 40s 1s/step - loss: 0.1113 - accuracy: 0.9545 - val_loss: 8.2922 - val_accuracy: 0.5521\n",
            "Epoch 59/80\n",
            "32/32 [==============================] - 37s 1s/step - loss: 0.1058 - accuracy: 0.9604 - val_loss: 9.8708 - val_accuracy: 0.5312\n",
            "Epoch 60/80\n",
            "32/32 [==============================] - 40s 1s/step - loss: 0.1122 - accuracy: 0.9535 - val_loss: 7.3393 - val_accuracy: 0.5625\n",
            "Epoch 61/80\n",
            "32/32 [==============================] - 40s 1s/step - loss: 0.0998 - accuracy: 0.9545 - val_loss: 11.1036 - val_accuracy: 0.5312\n",
            "Epoch 62/80\n",
            "32/32 [==============================] - 37s 1s/step - loss: 0.1127 - accuracy: 0.9634 - val_loss: 10.1653 - val_accuracy: 0.5000\n",
            "Epoch 63/80\n",
            "32/32 [==============================] - 40s 1s/step - loss: 0.1327 - accuracy: 0.9406 - val_loss: 8.1176 - val_accuracy: 0.5208\n",
            "Epoch 64/80\n",
            "32/32 [==============================] - 37s 1s/step - loss: 0.1308 - accuracy: 0.9426 - val_loss: 9.1215 - val_accuracy: 0.5104\n",
            "Epoch 65/80\n",
            "32/32 [==============================] - 39s 1s/step - loss: 0.1088 - accuracy: 0.9485 - val_loss: 10.3049 - val_accuracy: 0.5208\n",
            "Epoch 66/80\n",
            "32/32 [==============================] - 40s 1s/step - loss: 0.0979 - accuracy: 0.9614 - val_loss: 9.7236 - val_accuracy: 0.5625\n",
            "Epoch 67/80\n",
            "32/32 [==============================] - 38s 1s/step - loss: 0.0806 - accuracy: 0.9564 - val_loss: 12.1268 - val_accuracy: 0.5208\n",
            "Epoch 68/80\n",
            "32/32 [==============================] - 40s 1s/step - loss: 0.0943 - accuracy: 0.9535 - val_loss: 10.6004 - val_accuracy: 0.5000\n",
            "Epoch 69/80\n",
            "32/32 [==============================] - 41s 1s/step - loss: 0.0925 - accuracy: 0.9604 - val_loss: 10.2863 - val_accuracy: 0.5000\n",
            "Epoch 70/80\n",
            "32/32 [==============================] - 38s 1s/step - loss: 0.0735 - accuracy: 0.9663 - val_loss: 11.4573 - val_accuracy: 0.5104\n",
            "Epoch 71/80\n",
            "32/32 [==============================] - 40s 1s/step - loss: 0.1255 - accuracy: 0.9446 - val_loss: 10.9642 - val_accuracy: 0.5312\n",
            "Epoch 72/80\n",
            "32/32 [==============================] - 40s 1s/step - loss: 0.1074 - accuracy: 0.9554 - val_loss: 9.2778 - val_accuracy: 0.5000\n",
            "Epoch 73/80\n",
            "32/32 [==============================] - 38s 1s/step - loss: 0.0807 - accuracy: 0.9554 - val_loss: 11.4191 - val_accuracy: 0.5312\n",
            "Epoch 74/80\n",
            "32/32 [==============================] - 38s 1s/step - loss: 0.0894 - accuracy: 0.9574 - val_loss: 12.0051 - val_accuracy: 0.5312\n",
            "Epoch 75/80\n",
            "32/32 [==============================] - 40s 1s/step - loss: 0.1031 - accuracy: 0.9515 - val_loss: 11.2901 - val_accuracy: 0.5312\n",
            "Epoch 76/80\n",
            "32/32 [==============================] - 38s 1s/step - loss: 0.0987 - accuracy: 0.9584 - val_loss: 10.5706 - val_accuracy: 0.5417\n",
            "Epoch 77/80\n",
            "32/32 [==============================] - 40s 1s/step - loss: 0.0916 - accuracy: 0.9634 - val_loss: 10.8879 - val_accuracy: 0.5417\n",
            "Epoch 78/80\n",
            "32/32 [==============================] - 41s 1s/step - loss: 0.0851 - accuracy: 0.9554 - val_loss: 13.0189 - val_accuracy: 0.5312\n",
            "Epoch 79/80\n",
            "32/32 [==============================] - 38s 1s/step - loss: 0.0885 - accuracy: 0.9604 - val_loss: 11.5444 - val_accuracy: 0.5208\n",
            "Epoch 80/80\n",
            "32/32 [==============================] - 40s 1s/step - loss: 0.0652 - accuracy: 0.9663 - val_loss: 13.2731 - val_accuracy: 0.5417\n"
          ]
        }
      ]
    },
    {
      "cell_type": "code",
      "source": [
        "#Tạo file inception\n",
        "from tensorflow.keras.models import load_model\n",
        "\n",
        "model.save('/content/drive/MyDrive/AI_final/model_inception.h5')"
      ],
      "metadata": {
        "id": "gknhfJngjIXr"
      },
      "execution_count": 7,
      "outputs": []
    },
    {
      "cell_type": "code",
      "source": [
        "from tensorflow.keras.preprocessing import image\n",
        "model=load_model('/content/drive/MyDrive/AI_final/model_inception.h5')\n",
        "model"
      ],
      "metadata": {
        "colab": {
          "base_uri": "https://localhost:8080/"
        },
        "id": "Kgrpqe41jV_n",
        "outputId": "337c7459-ce52-4ba0-bd39-0afaceafd222"
      },
      "execution_count": 8,
      "outputs": [
        {
          "output_type": "execute_result",
          "data": {
            "text/plain": [
              "<keras.engine.sequential.Sequential at 0x7fcf497db3d0>"
            ]
          },
          "metadata": {},
          "execution_count": 8
        }
      ]
    },
    {
      "cell_type": "code",
      "source": [
        "import matplotlib.pyplot as plt\n",
        "score = model.evaluate(test,verbose=0)\n",
        "print('Test loss= ',score[0])\n",
        "print('Test accuracy= ',score[1])\n",
        "plt.plot(history.history['accuracy'])\n",
        "plt.plot(history.history['val_accuracy'])\n",
        "plt.title('Model Accuracy')\n",
        "plt.ylabel('accuracy')\n",
        "plt.xlabel('epoch')\n",
        "plt.legend(['train','validation'],loc='upper left')"
      ],
      "metadata": {
        "colab": {
          "base_uri": "https://localhost:8080/",
          "height": 527
        },
        "id": "a89YQ1fyfeZT",
        "outputId": "d5c53010-db8f-447c-ba44-4e4369820ab2"
      },
      "execution_count": 9,
      "outputs": [
        {
          "output_type": "stream",
          "name": "stdout",
          "text": [
            "Test loss=  12.766921997070312\n",
            "Test accuracy=  0.5416666865348816\n"
          ]
        },
        {
          "output_type": "execute_result",
          "data": {
            "text/plain": [
              "<matplotlib.legend.Legend at 0x7fcf40ceb6a0>"
            ]
          },
          "metadata": {},
          "execution_count": 9
        },
        {
          "output_type": "display_data",
          "data": {
            "text/plain": [
              "<Figure size 640x480 with 1 Axes>"
            ],
            "image/png": "[encoded data removed]"
          },
          "metadata": {}
        }
      ]
    },
    {
      "cell_type": "code",
      "source": [
        "\n",
        "import pandas as pd\n",
        "clases = pd.read_csv('/content/drive/MyDrive/AI_final/class.csv')\n",
        "clases = list(clases)\n",
        "clases"
      ],
      "metadata": {
        "colab": {
          "base_uri": "https://localhost:8080/"
        },
        "id": "BQ1T_w57fmbF",
        "outputId": "b2601134-5057-4fd4-c79e-688d2d7cb0db"
      },
      "execution_count": 10,
      "outputs": [
        {
          "output_type": "execute_result",
          "data": {
            "text/plain": [
              "['Duong Cam',\n",
              " 'Cam Di Nguoc Chieu',\n",
              " 'Cam O To',\n",
              " ' Cam O To Re Phai',\n",
              " 'Cam O To Re Trai',\n",
              " 'Cam Xe May',\n",
              " 'Cam O To Va Xe May',\n",
              " 'Cam Xe Tai',\n",
              " 'Cam Xe Tai Tren 2.5 tan',\n",
              " ' Cam O To Khach Va O To',\n",
              " 'Cam O To Ro-Mooc',\n",
              " 'Cam May Keo',\n",
              " 'Cam Xe Dap',\n",
              " 'Cam Xe Dap Tho',\n",
              " 'Cam Xe 3 va 4 Banh Tho So',\n",
              " 'Cam Nguoi Di Bo',\n",
              " 'Cam Xe Keo Day',\n",
              " 'Cam Xe Suc Vat Keo',\n",
              " 'Han Che Trong Luong Xe',\n",
              " 'Han Che Trong Luong Truc Xe',\n",
              " 'Han Che Chieu Cao Xe',\n",
              " 'Han Che Chieu Rong Xe',\n",
              " 'Han Che Chieu Dai O To',\n",
              " 'Han Che Chieu Dai Ro-Mooc',\n",
              " 'Khoang Cach Toi Thieu Giua Hai Xe',\n",
              " 'Dung Lai',\n",
              " 'Cam Re Trai',\n",
              " 'Cam Re phai',\n",
              " 'Cam Quay Dau',\n",
              " 'Cam O To Quay Dau']"
            ]
          },
          "metadata": {},
          "execution_count": 10
        }
      ]
    },
    {
      "cell_type": "code",
      "source": [
        "import numpy as np\n",
        "from tensorflow.keras.utils import load_img,img_to_array\n",
        "import matplotlib.pyplot as plt\n",
        "img = load_img('/content/drive/MyDrive/AI_final/Value/24.jpg', target_size = (64,64))\n",
        "plt.imshow(img)\n",
        "img = img_to_array(img)\n",
        "img = img.reshape(1,64,64,3) \n",
        "img = img.astype('float32')\n",
        "img = img/255\n",
        "print(clases[np.argmax(model.predict(img))])"
      ],
      "metadata": {
        "colab": {
          "base_uri": "https://localhost:8080/",
          "height": 469
        },
        "id": "wp0EbmJHg8Oo",
        "outputId": "8e9d5559-0103-42dd-9bcf-8418812750aa"
      },
      "execution_count": 16,
      "outputs": [
        {
          "output_type": "stream",
          "name": "stdout",
          "text": [
            "1/1 [==============================] - 0s 50ms/step\n",
            "Cam Nguoi Di Bo\n"
          ]
        },
        {
          "output_type": "display_data",
          "data": {
            "text/plain": [
              "<Figure size 640x480 with 1 Axes>"
            ],
            "image/png": "[encoded data removed]"
          },
          "metadata": {}
        }
      ]
    },
    {
      "cell_type": "code",
      "source": [
        "\n",
        "from keras.models import load_model\n",
        "import pandas as pd\n",
        "# Load model Nhận diện \n",
        "model = load_model(\"/content/CNN_SignTrafficVN.h5\")\n",
        "#load nhãn cho model\n",
        "classes = pd.read_csv('/content/drive/MyDrive/testAInho/classn1.csv')\n",
        "classes = list(classes)"
      ],
      "metadata": {
        "id": "JjMCuPZ_iodx"
      },
      "execution_count": null,
      "outputs": []
    },
    {
      "cell_type": "code",
      "source": [
        "pip install gradio"
      ],
      "metadata": {
        "colab": {
          "base_uri": "https://localhost:8080/"
        },
        "id": "zRpSusdxkJJO",
        "outputId": "546942f7-b595-40db-ef21-900a96afbb14"
      },
      "execution_count": null,
      "outputs": [
        {
          "output_type": "stream",
          "name": "stdout",
          "text": [
            "Looking in indexes: https://pypi.org/simple, https://us-python.pkg.dev/colab-wheels/public/simple/\n",
            "Requirement already satisfied: gradio in /usr/local/lib/python3.9/dist-packages (3.31.0)\n",
            "Requirement already satisfied: aiofiles in /usr/local/lib/python3.9/dist-packages (from gradio) (23.1.0)\n",
            "Requirement already satisfied: pyyaml in /usr/local/lib/python3.9/dist-packages (from gradio) (6.0)\n",
            "Requirement already satisfied: pydantic in /usr/local/lib/python3.9/dist-packages (from gradio) (1.10.7)\n",
            "Requirement already satisfied: python-multipart in /usr/local/lib/python3.9/dist-packages (from gradio) (0.0.6)\n",
            "Requirement already satisfied: pygments>=2.12.0 in /usr/local/lib/python3.9/dist-packages (from gradio) (2.14.0)\n",
            "Requirement already satisfied: fastapi in /usr/local/lib/python3.9/dist-packages (from gradio) (0.95.2)\n",
            "Requirement already satisfied: httpx in /usr/local/lib/python3.9/dist-packages (from gradio) (0.24.0)\n",
            "Requirement already satisfied: requests in /usr/local/lib/python3.9/dist-packages (from gradio) (2.27.1)\n",
            "Requirement already satisfied: aiohttp in /usr/local/lib/python3.9/dist-packages (from gradio) (3.8.4)\n",
            "Requirement already satisfied: semantic-version in /usr/local/lib/python3.9/dist-packages (from gradio) (2.10.0)\n",
            "Requirement already satisfied: altair>=4.2.0 in /usr/local/lib/python3.9/dist-packages (from gradio) (4.2.2)\n",
            "Requirement already satisfied: websockets>=10.0 in /usr/local/lib/python3.9/dist-packages (from gradio) (11.0.3)\n",
            "Requirement already satisfied: pandas in /usr/local/lib/python3.9/dist-packages (from gradio) (1.5.3)\n",
            "Requirement already satisfied: huggingface-hub>=0.13.0 in /usr/local/lib/python3.9/dist-packages (from gradio) (0.14.1)\n",
            "Requirement already satisfied: markdown-it-py[linkify]>=2.0.0 in /usr/local/lib/python3.9/dist-packages (from gradio) (2.2.0)\n",
            "Requirement already satisfied: orjson in /usr/local/lib/python3.9/dist-packages (from gradio) (3.8.12)\n",
            "Requirement already satisfied: gradio-client>=0.2.4 in /usr/local/lib/python3.9/dist-packages (from gradio) (0.2.5)\n",
            "Requirement already satisfied: matplotlib in /usr/local/lib/python3.9/dist-packages (from gradio) (3.7.1)\n",
            "Requirement already satisfied: uvicorn>=0.14.0 in /usr/local/lib/python3.9/dist-packages (from gradio) (0.22.0)\n",
            "Requirement already satisfied: pillow in /usr/local/lib/python3.9/dist-packages (from gradio) (8.4.0)\n",
            "Requirement already satisfied: numpy in /usr/local/lib/python3.9/dist-packages (from gradio) (1.22.4)\n",
            "Requirement already satisfied: mdit-py-plugins<=0.3.3 in /usr/local/lib/python3.9/dist-packages (from gradio) (0.3.3)\n",
            "Requirement already satisfied: typing-extensions in /usr/local/lib/python3.9/dist-packages (from gradio) (4.5.0)\n",
            "Requirement already satisfied: ffmpy in /usr/local/lib/python3.9/dist-packages (from gradio) (0.3.0)\n",
            "Requirement already satisfied: jinja2 in /usr/local/lib/python3.9/dist-packages (from gradio) (3.1.2)\n",
            "Requirement already satisfied: pydub in /usr/local/lib/python3.9/dist-packages (from gradio) (0.25.1)\n",
            "Requirement already satisfied: markupsafe in /usr/local/lib/python3.9/dist-packages (from gradio) (2.1.2)\n",
            "Requirement already satisfied: jsonschema>=3.0 in /usr/local/lib/python3.9/dist-packages (from altair>=4.2.0->gradio) (4.3.3)\n",
            "Requirement already satisfied: toolz in /usr/local/lib/python3.9/dist-packages (from altair>=4.2.0->gradio) (0.12.0)\n",
            "Requirement already satisfied: entrypoints in /usr/local/lib/python3.9/dist-packages (from altair>=4.2.0->gradio) (0.4)\n",
            "Requirement already satisfied: packaging in /usr/local/lib/python3.9/dist-packages (from gradio-client>=0.2.4->gradio) (23.1)\n",
            "Requirement already satisfied: fsspec in /usr/local/lib/python3.9/dist-packages (from gradio-client>=0.2.4->gradio) (2023.4.0)\n",
            "Requirement already satisfied: tqdm>=4.42.1 in /usr/local/lib/python3.9/dist-packages (from huggingface-hub>=0.13.0->gradio) (4.65.0)\n",
            "Requirement already satisfied: filelock in /usr/local/lib/python3.9/dist-packages (from huggingface-hub>=0.13.0->gradio) (3.11.0)\n",
            "Requirement already satisfied: mdurl~=0.1 in /usr/local/lib/python3.9/dist-packages (from markdown-it-py[linkify]>=2.0.0->gradio) (0.1.2)\n",
            "Requirement already satisfied: linkify-it-py<3,>=1 in /usr/local/lib/python3.9/dist-packages (from markdown-it-py[linkify]>=2.0.0->gradio) (2.0.2)\n",
            "Requirement already satisfied: python-dateutil>=2.8.1 in /usr/local/lib/python3.9/dist-packages (from pandas->gradio) (2.8.2)\n",
            "Requirement already satisfied: pytz>=2020.1 in /usr/local/lib/python3.9/dist-packages (from pandas->gradio) (2022.7.1)\n",
            "Requirement already satisfied: click>=7.0 in /usr/local/lib/python3.9/dist-packages (from uvicorn>=0.14.0->gradio) (8.1.3)\n",
            "Requirement already satisfied: h11>=0.8 in /usr/local/lib/python3.9/dist-packages (from uvicorn>=0.14.0->gradio) (0.14.0)\n",
            "Requirement already satisfied: aiosignal>=1.1.2 in /usr/local/lib/python3.9/dist-packages (from aiohttp->gradio) (1.3.1)\n",
            "Requirement already satisfied: attrs>=17.3.0 in /usr/local/lib/python3.9/dist-packages (from aiohttp->gradio) (23.1.0)\n",
            "Requirement already satisfied: frozenlist>=1.1.1 in /usr/local/lib/python3.9/dist-packages (from aiohttp->gradio) (1.3.3)\n",
            "Requirement already satisfied: async-timeout<5.0,>=4.0.0a3 in /usr/local/lib/python3.9/dist-packages (from aiohttp->gradio) (4.0.2)\n",
            "Requirement already satisfied: yarl<2.0,>=1.0 in /usr/local/lib/python3.9/dist-packages (from aiohttp->gradio) (1.9.2)\n",
            "Requirement already satisfied: multidict<7.0,>=4.5 in /usr/local/lib/python3.9/dist-packages (from aiohttp->gradio) (6.0.4)\n",
            "Requirement already satisfied: charset-normalizer<4.0,>=2.0 in /usr/local/lib/python3.9/dist-packages (from aiohttp->gradio) (2.0.12)\n",
            "Requirement already satisfied: starlette<0.28.0,>=0.27.0 in /usr/local/lib/python3.9/dist-packages (from fastapi->gradio) (0.27.0)\n",
            "Requirement already satisfied: httpcore<0.18.0,>=0.15.0 in /usr/local/lib/python3.9/dist-packages (from httpx->gradio) (0.17.0)\n",
            "Requirement already satisfied: idna in /usr/local/lib/python3.9/dist-packages (from httpx->gradio) (3.4)\n",
            "Requirement already satisfied: certifi in /usr/local/lib/python3.9/dist-packages (from httpx->gradio) (2022.12.7)\n",
            "Requirement already satisfied: sniffio in /usr/local/lib/python3.9/dist-packages (from httpx->gradio) (1.3.0)\n",
            "Requirement already satisfied: kiwisolver>=1.0.1 in /usr/local/lib/python3.9/dist-packages (from matplotlib->gradio) (1.4.4)\n",
            "Requirement already satisfied: cycler>=0.10 in /usr/local/lib/python3.9/dist-packages (from matplotlib->gradio) (0.11.0)\n",
            "Requirement already satisfied: importlib-resources>=3.2.0 in /usr/local/lib/python3.9/dist-packages (from matplotlib->gradio) (5.12.0)\n",
            "Requirement already satisfied: contourpy>=1.0.1 in /usr/local/lib/python3.9/dist-packages (from matplotlib->gradio) (1.0.7)\n",
            "Requirement already satisfied: pyparsing>=2.3.1 in /usr/local/lib/python3.9/dist-packages (from matplotlib->gradio) (3.0.9)\n",
            "Requirement already satisfied: fonttools>=4.22.0 in /usr/local/lib/python3.9/dist-packages (from matplotlib->gradio) (4.39.3)\n",
            "Requirement already satisfied: urllib3<1.27,>=1.21.1 in /usr/local/lib/python3.9/dist-packages (from requests->gradio) (1.26.15)\n",
            "Requirement already satisfied: anyio<5.0,>=3.0 in /usr/local/lib/python3.9/dist-packages (from httpcore<0.18.0,>=0.15.0->httpx->gradio) (3.6.2)\n",
            "Requirement already satisfied: zipp>=3.1.0 in /usr/local/lib/python3.9/dist-packages (from importlib-resources>=3.2.0->matplotlib->gradio) (3.15.0)\n",
            "Requirement already satisfied: pyrsistent!=0.17.0,!=0.17.1,!=0.17.2,>=0.14.0 in /usr/local/lib/python3.9/dist-packages (from jsonschema>=3.0->altair>=4.2.0->gradio) (0.19.3)\n",
            "Requirement already satisfied: uc-micro-py in /usr/local/lib/python3.9/dist-packages (from linkify-it-py<3,>=1->markdown-it-py[linkify]>=2.0.0->gradio) (1.0.2)\n",
            "Requirement already satisfied: six>=1.5 in /usr/local/lib/python3.9/dist-packages (from python-dateutil>=2.8.1->pandas->gradio) (1.16.0)\n"
          ]
        }
      ]
    },
    {
      "cell_type": "code",
      "source": [
        "import gradio as gr\n",
        "import tensorflow as tf\n",
        "from tensorflow import keras\n",
        "import matplotlib.pyplot as plt\n",
        "import numpy as np\n",
        "from tensorflow.keras.utils import load_img,img_to_array"
      ],
      "metadata": {
        "id": "YLaHPG-sj8dm"
      },
      "execution_count": null,
      "outputs": []
    },
    {
      "cell_type": "code",
      "source": [
        "def predict_object(img):\n",
        "  img = img_to_array(img)\n",
        "  img = img.reshape(1,64,64,3) \n",
        "  print(classes[np.argmax(model.predict(img),axis=1)[0]])\n",
        "  prediction= model.predict(img)[0]\n",
        "  # cf = {classes[i]: float(predict_result[i]) for ỉ in range(len(predict_result))}\n",
        "  cf = {classes[i]: float(prediction[i]) for i in range(5)}\n",
        "  print(cf)\n",
        "  return cf"
      ],
      "metadata": {
        "id": "xqk1jwXHkXFa"
      },
      "execution_count": null,
      "outputs": []
    },
    {
      "cell_type": "code",
      "source": [
        "gr.Interface(fn = predict_object,\n",
        "             inputs = gr.inputs.Image(shape = (64,64)),\n",
        "             outputs = gr.outputs.Label(num_top_classes=3),\n",
        "             interpretation='default'\n",
        "             ).launch(debug = True)"
      ],
      "metadata": {
        "colab": {
          "base_uri": "https://localhost:8080/",
          "height": 955
        },
        "id": "Z-360Kgykbed",
        "outputId": "d6afcf17-0522-434e-8606-ed11b233d4ac"
      },
      "execution_count": null,
      "outputs": [
        {
          "output_type": "stream",
          "name": "stderr",
          "text": [
            "/usr/local/lib/python3.9/dist-packages/gradio/inputs.py:259: UserWarning: Usage of gradio.inputs is deprecated, and will not be supported in the future, please import your component from gradio.components\n",
            "  warnings.warn(\n",
            "/usr/local/lib/python3.9/dist-packages/gradio/inputs.py:262: UserWarning: `optional` parameter is deprecated, and it has no effect\n",
            "  super().__init__(\n",
            "/usr/local/lib/python3.9/dist-packages/gradio/outputs.py:197: UserWarning: Usage of gradio.outputs is deprecated, and will not be supported in the future, please import your components from gradio.components\n",
            "  warnings.warn(\n",
            "/usr/local/lib/python3.9/dist-packages/gradio/outputs.py:200: UserWarning: The 'type' parameter has been deprecated. Use the Number component instead.\n",
            "  super().__init__(num_top_classes=num_top_classes, type=type, label=label)\n"
          ]
        },
        {
          "output_type": "stream",
          "name": "stdout",
          "text": [
            "Colab notebook detected. This cell will run indefinitely so that you can see errors and logs. To turn off, set debug=False in launch().\n",
            "Note: opening Chrome Inspector may crash demo inside Colab notebooks.\n",
            "\n",
            "To create a public link, set `share=True` in `launch()`.\n"
          ]
        },
        {
          "output_type": "display_data",
          "data": {
            "text/plain": [
              "<IPython.core.display.Javascript object>"
            ],
            "application/javascript": [
              "(async (port, path, width, height, cache, element) => {\n",
              "                        if (!google.colab.kernel.accessAllowed && !cache) {\n",
              "                            return;\n",
              "                        }\n",
              "                        element.appendChild(document.createTextNode(''));\n",
              "                        const url = await google.colab.kernel.proxyPort(port, {cache});\n",
              "\n",
              "                        const external_link = document.createElement('div');\n",
              "                        external_link.innerHTML = `\n",
              "                            <div style=\"font-family: monospace; margin-bottom: 0.5rem\">\n",
              "                                Running on <a href=${new URL(path, url).toString()} target=\"_blank\">\n",
              "                                    https://localhost:${port}${path}\n",
              "                                </a>\n",
              "                            </div>\n",
              "                        `;\n",
              "                        element.appendChild(external_link);\n",
              "\n",
              "                        const iframe = document.createElement('iframe');\n",
              "                        iframe.src = new URL(path, url).toString();\n",
              "                        iframe.height = height;\n",
              "                        iframe.allow = \"autoplay; camera; microphone; clipboard-read; clipboard-write;\"\n",
              "                        iframe.width = width;\n",
              "                        iframe.style.border = 0;\n",
              "                        element.appendChild(iframe);\n",
              "                    })(7860, \"/\", \"100%\", 500, false, window.element)"
            ]
          },
          "metadata": {}
        },
        {
          "output_type": "stream",
          "name": "stdout",
          "text": [
            "1/1 [==============================] - 0s 112ms/step\n",
            "Cam O To\n",
            "1/1 [==============================] - 0s 30ms/step\n",
            "{'Duong Cam': 0.0, 'Cam Di Nguoc Chieu': 0.0, 'Cam O To': 1.0, ' Cam O To Re Phai': 0.0, 'Cam O To Re Trai': 0.0}\n",
            "1/1 [==============================] - 0s 37ms/step\n",
            "Cam O To\n",
            "1/1 [==============================] - 0s 28ms/step\n",
            "{'Duong Cam': 0.0, 'Cam Di Nguoc Chieu': 0.0, 'Cam O To': 1.0, ' Cam O To Re Phai': 0.0, 'Cam O To Re Trai': 0.0}\n",
            "Keyboard interruption in main thread... closing server.\n"
          ]
        },
        {
          "output_type": "execute_result",
          "data": {
            "text/plain": []
          },
          "metadata": {},
          "execution_count": 48
        }
      ]
    }
  ],
  "metadata": {
    "colab": {
      "provenance": [],
      "mount_file_id": "1LpuGKkzXmWWsIu4ElOUJH-ymfbISRG1n",
      "authorship_tag": "ABX9TyMz9AnvN4VWVoOZv1vJij7y",
      "include_colab_link": true
    },
    "gpuClass": "standard",
    "kernelspec": {
      "display_name": "Python 3",
      "name": "python3"
    },
    "language_info": {
      "name": "python"
    }
  },
  "nbformat": 4,
  "nbformat_minor": 0
}