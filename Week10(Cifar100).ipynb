{
  "nbformat": 4,
  "nbformat_minor": 0,
  "metadata": {
    "colab": {
      "provenance": [],
      "toc_visible": true,
      "mount_file_id": "1ms_r0Li5otnwiVYNDyst4tbMInJsIBew",
      "authorship_tag": "ABX9TyOzn9F/tU8SOoharCFHgk6g",
      "include_colab_link": true
    },
    "kernelspec": {
      "name": "python3",
      "display_name": "Python 3"
    },
    "language_info": {
      "name": "python"
    }
  },
  "cells": [
    {
      "cell_type": "markdown",
      "metadata": {
        "id": "view-in-github",
        "colab_type": "text"
      },
      "source": [
        "<a href=\"https://colab.research.google.com/github/nqtien12/AI/blob/main/Week10(Cifar100).ipynb\" target=\"_parent\"><img src=\"https://colab.research.google.com/assets/colab-badge.svg\" alt=\"Open In Colab\"/></a>"
      ]
    },
    {
      "cell_type": "code",
      "execution_count": 1,
      "metadata": {
        "id": "WMR7vKX_CBjq"
      },
      "outputs": [],
      "source": [
        "#Khai bao thu vien cho toan bai\n",
        "from keras.datasets import cifar100\n",
        "from keras.utils import to_categorical\n",
        "from keras.models import Sequential\n",
        "from keras.layers import Dense"
      ]
    },
    {
      "cell_type": "code",
      "source": [
        "#Load data\n",
        "(x_train, y_train), (x_test, y_test) = cifar100.load_data()\n",
        "x_train.shape\n",
        "x_test.shape"
      ],
      "metadata": {
        "colab": {
          "base_uri": "https://localhost:8080/"
        },
        "id": "aepStub5CCsi",
        "outputId": "6c30ba2c-753a-4ff8-850d-dcaa3c1c95df"
      },
      "execution_count": 2,
      "outputs": [
        {
          "output_type": "stream",
          "name": "stdout",
          "text": [
            "Downloading data from https://www.cs.toronto.edu/~kriz/cifar-100-python.tar.gz\n",
            "169001437/169001437 [==============================] - 6s 0us/step\n"
          ]
        },
        {
          "output_type": "execute_result",
          "data": {
            "text/plain": [
              "(10000, 32, 32, 3)"
            ]
          },
          "metadata": {},
          "execution_count": 2
        }
      ]
    },
    {
      "cell_type": "code",
      "source": [
        "# preprocess the data\n",
        "from keras.utils import to_categorical\n",
        "x_train = x_train.reshape((50000, 32 * 32 * 3))\n",
        "x_train = x_train.astype('float32') / 255\n",
        "\n",
        "x_test = x_test.reshape((10000, 32 * 32 * 3))\n",
        "x_test = x_test.astype('float32') / 255\n",
        "\n",
        "\n",
        "y_train = to_categorical(y_train, 100)\n",
        "y_test = to_categorical(y_test, 100)"
      ],
      "metadata": {
        "id": "d569H9tuCEmi"
      },
      "execution_count": 3,
      "outputs": []
    },
    {
      "cell_type": "code",
      "source": [
        "# add a virtual layer to the input shape\n",
        "from keras.models import Sequential\n",
        "from keras.layers import Dense\n",
        "\n",
        "model = Sequential()\n",
        "model.add(Dense(2000, input_shape=(32*32*3,), activation='relu'))\n",
        "model.add(Dense(100, activation='softmax'))\n",
        "\n",
        "model.summary()"
      ],
      "metadata": {
        "colab": {
          "base_uri": "https://localhost:8080/"
        },
        "id": "i_BETljECH-Q",
        "outputId": "af900833-8439-4717-e38f-132283786953"
      },
      "execution_count": 4,
      "outputs": [
        {
          "output_type": "stream",
          "name": "stdout",
          "text": [
            "Model: \"sequential\"\n",
            "_________________________________________________________________\n",
            " Layer (type)                Output Shape              Param #   \n",
            "=================================================================\n",
            " dense (Dense)               (None, 2000)              6146000   \n",
            "                                                                 \n",
            " dense_1 (Dense)             (None, 100)               200100    \n",
            "                                                                 \n",
            "=================================================================\n",
            "Total params: 6,346,100\n",
            "Trainable params: 6,346,100\n",
            "Non-trainable params: 0\n",
            "_________________________________________________________________\n"
          ]
        }
      ]
    },
    {
      "cell_type": "code",
      "source": [
        "from keras.losses import categorical_crossentropy\n",
        "\n",
        "model.compile(optimizer='rmsprop', loss='categorical_crossentropy', metrics=['accuracy'])\n",
        "\n",
        "model.fit(x_train, y_train, epochs=10, batch_size=128)\n",
        "\n",
        "test_loss, test_acc = model.evaluate(x_test, y_test)\n",
        "print('test accuracy:', test_acc)\n",
        "print('test loss:', test_loss)"
      ],
      "metadata": {
        "colab": {
          "base_uri": "https://localhost:8080/"
        },
        "id": "F4NZA0E5CK6W",
        "outputId": "228174e6-21ad-4e20-c4bf-d52d02d67101"
      },
      "execution_count": 5,
      "outputs": [
        {
          "output_type": "stream",
          "name": "stdout",
          "text": [
            "Epoch 1/10\n",
            "391/391 [==============================] - 49s 125ms/step - loss: 4.3425 - accuracy: 0.0718\n",
            "Epoch 2/10\n",
            "391/391 [==============================] - 47s 119ms/step - loss: 3.7428 - accuracy: 0.1335\n",
            "Epoch 3/10\n",
            "391/391 [==============================] - 46s 117ms/step - loss: 3.5973 - accuracy: 0.1614\n",
            "Epoch 4/10\n",
            "391/391 [==============================] - 57s 146ms/step - loss: 3.5001 - accuracy: 0.1799\n",
            "Epoch 5/10\n",
            "391/391 [==============================] - 47s 121ms/step - loss: 3.4273 - accuracy: 0.1927\n",
            "Epoch 6/10\n",
            "391/391 [==============================] - 49s 124ms/step - loss: 3.3716 - accuracy: 0.2007\n",
            "Epoch 7/10\n",
            "391/391 [==============================] - 45s 116ms/step - loss: 3.3184 - accuracy: 0.2145\n",
            "Epoch 8/10\n",
            "391/391 [==============================] - 46s 117ms/step - loss: 3.2761 - accuracy: 0.2219\n",
            "Epoch 9/10\n",
            "391/391 [==============================] - 46s 118ms/step - loss: 3.2314 - accuracy: 0.2319\n",
            "Epoch 10/10\n",
            "391/391 [==============================] - 47s 120ms/step - loss: 3.1928 - accuracy: 0.2367\n",
            "313/313 [==============================] - 5s 15ms/step - loss: 3.6550 - accuracy: 0.1888\n",
            "test accuracy: 0.18880000710487366\n",
            "test loss: 3.6549582481384277\n"
          ]
        }
      ]
    },
    {
      "cell_type": "code",
      "source": [
        "model.save('/content/drive/MyDrive/Colab Notebooks/cifar100.h5')"
      ],
      "metadata": {
        "id": "qEAdD01OC7Zl"
      },
      "execution_count": 7,
      "outputs": []
    }
  ]
}