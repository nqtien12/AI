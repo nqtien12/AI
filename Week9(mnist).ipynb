{
  "nbformat": 4,
  "nbformat_minor": 0,
  "metadata": {
    "colab": {
      "provenance": [],
      "authorship_tag": "ABX9TyOnR37gnJAx/XthqjlIuKaQ",
      "include_colab_link": true
    },
    "kernelspec": {
      "name": "python3",
      "display_name": "Python 3"
    },
    "language_info": {
      "name": "python"
    }
  },
  "cells": [
    {
      "cell_type": "markdown",
      "metadata": {
        "id": "view-in-github",
        "colab_type": "text"
      },
      "source": [
        "<a href=\"https://colab.research.google.com/github/nqtien12/AI/blob/main/Week9(mnist).ipynb\" target=\"_parent\"><img src=\"https://colab.research.google.com/assets/colab-badge.svg\" alt=\"Open In Colab\"/></a>"
      ]
    },
    {
      "cell_type": "code",
      "execution_count": 19,
      "metadata": {
        "id": "md6GmvE0zyG2"
      },
      "outputs": [],
      "source": [
        "from keras.datasets import mnist\n",
        "import matplotlib.pyplot as plt\n",
        "import numpy as np\n",
        "from keras.models import Sequential\n",
        "from keras.layers import Dense\n",
        "from keras.utils import to_categorical\n",
        "(train_image,train_label),(test_image,test_label)=mnist.load_data()"
      ]
    },
    {
      "cell_type": "code",
      "source": [
        "train_image.shape\n",
        "train_label.shape"
      ],
      "metadata": {
        "colab": {
          "base_uri": "https://localhost:8080/"
        },
        "id": "KVV5Au8L0Nfy",
        "outputId": "9cb4cad1-5f91-497a-e6cc-a0affaf6b115"
      },
      "execution_count": 5,
      "outputs": [
        {
          "output_type": "execute_result",
          "data": {
            "text/plain": [
              "(60000,)"
            ]
          },
          "metadata": {},
          "execution_count": 5
        }
      ]
    },
    {
      "cell_type": "code",
      "source": [
        "# load the mnist dataset\n",
        "(train_images, train_labels), (test_images, test_labels) = mnist.load_data()\n",
        "\n",
        "# display an image from the dataset\n",
        "hinh = train_images[100]\n",
        "plt.imshow(hinh, cmap=plt.cm.binary)\n",
        "plt.show()\n",
        "print('Số này là:', train_labels[100])"
      ],
      "metadata": {
        "colab": {
          "base_uri": "https://localhost:8080/",
          "height": 282
        },
        "id": "1hFOJv_U0sjm",
        "outputId": "f47723b8-a443-4c37-d8c5-8fda03960848"
      },
      "execution_count": 39,
      "outputs": [
        {
          "output_type": "display_data",
          "data": {
            "text/plain": [
              "<Figure size 432x288 with 1 Axes>"
            ],
            "image/png": "[encoded data removed]"
          },
          "metadata": {
            "needs_background": "light"
          }
        },
        {
          "output_type": "stream",
          "name": "stdout",
          "text": [
            "Số này là: 5\n"
          ]
        }
      ]
    },
    {
      "cell_type": "code",
      "source": [
        "for i in range(15):\n",
        "  plt.subplot(3,5,i+1)\n",
        "  plt.tight_layout()\n",
        "  plt.imshow(train_image[i], cmap = 'gray', interpolation = 'none')\n",
        "  plt.title('So:{}'.format(train_label[i]))\n",
        "  plt.xticks([])\n",
        "  plt.yticks([])"
      ],
      "metadata": {
        "colab": {
          "base_uri": "https://localhost:8080/",
          "height": 270
        },
        "id": "ZWTvMK7b1gc4",
        "outputId": "17204ac8-5e34-429c-f351-0e3cab9e3978"
      },
      "execution_count": 18,
      "outputs": [
        {
          "output_type": "display_data",
          "data": {
            "text/plain": [
              "<Figure size 432x288 with 15 Axes>"
            ],
            "image/png": "[encoded data removed]"
          },
          "metadata": {}
        }
      ]
    },
    {
      "cell_type": "code",
      "source": [
        "(train_images, train_labels), (test_images, test_labels) = mnist.load_data()\n",
        "print(train_images.shape) #một mảng có 3 chiều, với chiều đầu tiên là 60000 (số lượng hình ảnh), chiều thứ hai và thứ ba lần lượt là 28x28 (kích thước của hình ảnh).\n",
        "print(test_images.shape) #một mảng có 3 chiều, với chiều đầu tiên là 10000 (số lượng hình ảnh), chiều thứ hai và thứ ba lần lượt là 28x28 (kích thước của hình ảnh)."
      ],
      "metadata": {
        "colab": {
          "base_uri": "https://localhost:8080/"
        },
        "id": "Ty2vx2Y56kSM",
        "outputId": "d297fc38-91e5-4dd8-ecb0-f4d209cd7e10"
      },
      "execution_count": 23,
      "outputs": [
        {
          "output_type": "stream",
          "name": "stdout",
          "text": [
            "(60000, 28, 28)\n",
            "(10000, 28, 28)\n"
          ]
        }
      ]
    },
    {
      "cell_type": "code",
      "source": [
        "#Tao mo hinh\n",
        "model = Sequential()\n",
        "model.add(Dense(512, input_shape=(28*28,), activation = 'relu'))\n",
        "model.add(Dense(1, activation = 'softmax'))\n",
        "model.summary()"
      ],
      "metadata": {
        "colab": {
          "base_uri": "https://localhost:8080/"
        },
        "id": "2spIY7ZM_hMW",
        "outputId": "2f5fdb24-488f-4a7f-e5bf-929f6c59000b"
      },
      "execution_count": 28,
      "outputs": [
        {
          "output_type": "stream",
          "name": "stdout",
          "text": [
            "Model: \"sequential\"\n",
            "_________________________________________________________________\n",
            " Layer (type)                Output Shape              Param #   \n",
            "=================================================================\n",
            " dense (Dense)               (None, 512)               401920    \n",
            "                                                                 \n",
            " dense_1 (Dense)             (None, 1)                 513       \n",
            "                                                                 \n",
            "=================================================================\n",
            "Total params: 402,433\n",
            "Trainable params: 402,433\n",
            "Non-trainable params: 0\n",
            "_________________________________________________________________\n"
          ]
        }
      ]
    },
    {
      "cell_type": "code",
      "source": [
        "from keras.utils import to_categorical #lenh chuyen 2 chieu thanh 1 chieu \n",
        "\n",
        "train_images = train_images.reshape((60000, 28*28))\n",
        "train_image = train_images.astype('float32')/255\n",
        "\n",
        "test_images = test_images.reshape((10000, 28*28))\n",
        "test_image = test_images.astype('float32')/255\n",
        "\n",
        "train_label = to_categorical(train_labels, 10)\n",
        "test_label = to_categorical(test_labels, 10)"
      ],
      "metadata": {
        "id": "Z9k9gvIU_rhR"
      },
      "execution_count": 32,
      "outputs": []
    },
    {
      "cell_type": "code",
      "source": [
        "#compile\n",
        "model.compile(optimizer = 'rmsprop', loss = 'categorical_crossentropy', metrics = 'accuracy') #bộ tối ưu 'rmsprop', mất mát 'categorical_crossentropy'\n",
        "\n",
        "#train\n",
        "model.fit(train_images, train_labels, epochs = 10, batch_size = 128) #lô học chỉ là 128 dữ liệu thôi (không học 60000 dữ liệu), học 10 lần -> mỗi lần học 128\n",
        "#đánh giá độ chính xác\n",
        "test_loss, test_acc = model.evaluate(test_images, test_labels)\n",
        "\n",
        "print('test_accuracy: ', test_acc)\n",
        "print('test_loss: ', test_loss)\n"
      ],
      "metadata": {
        "colab": {
          "base_uri": "https://localhost:8080/"
        },
        "id": "6db87R7__9r_",
        "outputId": "ee97b9c1-a06c-48d3-e4c1-2016049ae27c"
      },
      "execution_count": 34,
      "outputs": [
        {
          "output_type": "stream",
          "name": "stdout",
          "text": [
            "Epoch 1/10\n",
            "469/469 [==============================] - 5s 10ms/step - loss: 0.0000e+00 - accuracy: 0.1124\n",
            "Epoch 2/10\n",
            "469/469 [==============================] - 4s 9ms/step - loss: 0.0000e+00 - accuracy: 0.1124\n",
            "Epoch 3/10\n",
            "469/469 [==============================] - 6s 12ms/step - loss: 0.0000e+00 - accuracy: 0.1124\n",
            "Epoch 4/10\n",
            "469/469 [==============================] - 5s 12ms/step - loss: 0.0000e+00 - accuracy: 0.1124\n",
            "Epoch 5/10\n",
            "469/469 [==============================] - 4s 9ms/step - loss: 0.0000e+00 - accuracy: 0.1124\n",
            "Epoch 6/10\n",
            "469/469 [==============================] - 5s 11ms/step - loss: 0.0000e+00 - accuracy: 0.1124\n",
            "Epoch 7/10\n",
            "469/469 [==============================] - 4s 9ms/step - loss: 0.0000e+00 - accuracy: 0.1124\n",
            "Epoch 8/10\n",
            "469/469 [==============================] - 4s 9ms/step - loss: 0.0000e+00 - accuracy: 0.1124\n",
            "Epoch 9/10\n",
            "469/469 [==============================] - 5s 10ms/step - loss: 0.0000e+00 - accuracy: 0.1124\n",
            "Epoch 10/10\n",
            "469/469 [==============================] - 4s 9ms/step - loss: 0.0000e+00 - accuracy: 0.1124\n",
            "313/313 [==============================] - 1s 3ms/step - loss: 0.0000e+00 - accuracy: 0.1135\n",
            "test_accuracy:  0.11349999904632568\n",
            "test_loss:  0.0\n"
          ]
        }
      ]
    },
    {
      "cell_type": "code",
      "source": [],
      "metadata": {
        "id": "w_o5_DpCEK9D"
      },
      "execution_count": null,
      "outputs": []
    }
  ]
}