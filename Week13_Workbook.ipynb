{
  "nbformat": 4,
  "nbformat_minor": 0,
  "metadata": {
    "colab": {
      "provenance": [],
      "toc_visible": true,
      "authorship_tag": "ABX9TyP6+JyHIorSM8Nd31BOpmWc",
      "include_colab_link": true
    },
    "kernelspec": {
      "name": "python3",
      "display_name": "Python 3"
    },
    "language_info": {
      "name": "python"
    }
  },
  "cells": [
    {
      "cell_type": "markdown",
      "metadata": {
        "id": "view-in-github",
        "colab_type": "text"
      },
      "source": [
        "<a href=\"https://colab.research.google.com/github/nqtien12/AI/blob/main/Week13_Workbook.ipynb\" target=\"_parent\"><img src=\"https://colab.research.google.com/assets/colab-badge.svg\" alt=\"Open In Colab\"/></a>"
      ]
    },
    {
      "cell_type": "code",
      "execution_count": 2,
      "metadata": {
        "colab": {
          "base_uri": "https://localhost:8080/"
        },
        "id": "1pxNOOGm8Mkg",
        "outputId": "33f535fd-4d09-4257-991a-e1c56837ec6d"
      },
      "outputs": [
        {
          "output_type": "stream",
          "name": "stdout",
          "text": [
            "Looking in indexes: https://pypi.org/simple, https://us-python.pkg.dev/colab-wheels/public/simple/\n",
            "Requirement already satisfied: openpyxl in /usr/local/lib/python3.9/dist-packages (3.0.10)\n",
            "Requirement already satisfied: et-xmlfile in /usr/local/lib/python3.9/dist-packages (from openpyxl) (1.1.0)\n"
          ]
        }
      ],
      "source": [
        "pip install openpyxl"
      ]
    },
    {
      "cell_type": "code",
      "source": [
        "pip install youtube-search"
      ],
      "metadata": {
        "colab": {
          "base_uri": "https://localhost:8080/"
        },
        "id": "iMhqv6CB8_Tu",
        "outputId": "d6867ba8-bf2f-4f6a-daae-ffbacdc313dc"
      },
      "execution_count": 4,
      "outputs": [
        {
          "output_type": "stream",
          "name": "stdout",
          "text": [
            "Looking in indexes: https://pypi.org/simple, https://us-python.pkg.dev/colab-wheels/public/simple/\n",
            "Collecting youtube-search\n",
            "  Downloading youtube_search-2.1.2-py3-none-any.whl (3.4 kB)\n",
            "Requirement already satisfied: requests in /usr/local/lib/python3.9/dist-packages (from youtube-search) (2.27.1)\n",
            "Requirement already satisfied: charset-normalizer~=2.0.0 in /usr/local/lib/python3.9/dist-packages (from requests->youtube-search) (2.0.12)\n",
            "Requirement already satisfied: certifi>=2017.4.17 in /usr/local/lib/python3.9/dist-packages (from requests->youtube-search) (2022.12.7)\n",
            "Requirement already satisfied: urllib3<1.27,>=1.21.1 in /usr/local/lib/python3.9/dist-packages (from requests->youtube-search) (1.26.15)\n",
            "Requirement already satisfied: idna<4,>=2.5 in /usr/local/lib/python3.9/dist-packages (from requests->youtube-search) (3.4)\n",
            "Installing collected packages: youtube-search\n",
            "Successfully installed youtube-search-2.1.2\n"
          ]
        }
      ]
    },
    {
      "cell_type": "code",
      "source": [
        "from openpyxl import Workbook\n",
        "from youtube_search import YoutubeSearch\n",
        "import webbrowser\n",
        "from openpyxl import Workbook"
      ],
      "metadata": {
        "id": "KqkeFPlq8zoS"
      },
      "execution_count": 5,
      "outputs": []
    },
    {
      "cell_type": "code",
      "source": [
        "data=Workbook()\n",
        "sheet=data.active\n",
        "mysong = input('Xin moi ban chon ten bai hat: ')\n",
        "result = YoutubeSearch(mysong, max_results = 10).to_dict()\n",
        "for i in range(10):\n",
        "  print(result[i]['title'])\n",
        "  print(result[i]['url_suffix'])\n",
        "  url = 'https://www.youtube.com' + result[i]['url_suffix']\n",
        "  print(url)\n",
        "  sheet['A' + str(i+1)] = i+1\n",
        "  sheet['B' + str(i+1)] = result[i]['title']\n",
        "  sheet['C' + str(i+1)] = result[i]['url_suffix']\n",
        "  sheet['D' + str(i+1)] = result[i]['duration']\n",
        "  sheet['E' + str(i+1)] = result[i]['views']\n",
        "  webbrowser.open(url)\n",
        "data.save('UTE.xlsx')\n"
      ],
      "metadata": {
        "colab": {
          "base_uri": "https://localhost:8080/"
        },
        "id": "dy90BmPr9GTW",
        "outputId": "c68ac9eb-41d6-46ea-d8e5-72a0115593ed"
      },
      "execution_count": 21,
      "outputs": [
        {
          "output_type": "stream",
          "name": "stdout",
          "text": [
            "Xin moi ban chon ten bai hat: money\n",
            "LISA - 'MONEY' EXCLUSIVE PERFORMANCE VIDEO\n",
            "/watch?v=dNCWe_6HAM8&pp=ygUFbW9uZXk%3D\n",
            "https://www.youtube.com/watch?v=dNCWe_6HAM8&pp=ygUFbW9uZXk%3D\n",
            "Making money accessible for the blind #money #blind #tech #braille #tool\n",
            "/shorts/XAFDeFrrWVc\n",
            "https://www.youtube.com/shorts/XAFDeFrrWVc\n",
            "How I Make Money as a \"Cozy\" Self-Employed YouTuber (Income Streams, Tax, Quitting My Job)\n",
            "/watch?v=11JdG--MbA4&pp=ygUFbW9uZXk%3D\n",
            "https://www.youtube.com/watch?v=11JdG--MbA4&pp=ygUFbW9uZXk%3D\n",
            "Money market warnings have become too big (2008-ish) to ignore. Here come the excuses. Debt ceiling?\n",
            "/watch?v=GwelRk2ONVQ&pp=ygUFbW9uZXk%3D\n",
            "https://www.youtube.com/watch?v=GwelRk2ONVQ&pp=ygUFbW9uZXk%3D\n",
            "Cardi B - Money [Official Music Video]\n",
            "/watch?v=zUOh09GoQgk&pp=ygUFbW9uZXk%3D\n",
            "https://www.youtube.com/watch?v=zUOh09GoQgk&pp=ygUFbW9uZXk%3D\n",
            "CATCH THE PROFIT TRAIN WITH MONEY TRAIN 3\n",
            "/watch?v=xEX7KoKwjxo&pp=ygUFbW9uZXk%3D\n",
            "https://www.youtube.com/watch?v=xEX7KoKwjxo&pp=ygUFbW9uZXk%3D\n",
            "Pink Floyd - Money (Official Music Video)\n",
            "/watch?v=-0kcet4aPpQ&pp=ygUFbW9uZXk%3D\n",
            "https://www.youtube.com/watch?v=-0kcet4aPpQ&pp=ygUFbW9uZXk%3D\n",
            "No Money Spent! I UNLOCKED CHIPPER JONES!\n",
            "/watch?v=_ThLvIZM_PA&pp=ygUFbW9uZXk%3D\n",
            "https://www.youtube.com/watch?v=_ThLvIZM_PA&pp=ygUFbW9uZXk%3D\n",
            "Money - Pink Floyd HD (Studio Version)\n",
            "/watch?v=cpbbuaIA3Ds&pp=ygUFbW9uZXk%3D\n",
            "https://www.youtube.com/watch?v=cpbbuaIA3Ds&pp=ygUFbW9uZXk%3D\n",
            "PRINTING MONEY 😳💷✨ | Jeremy Lynch #Shorts\n",
            "/shorts/NzRV1RTZN0k\n",
            "https://www.youtube.com/shorts/NzRV1RTZN0k\n"
          ]
        }
      ]
    },
    {
      "cell_type": "code",
      "source": [],
      "metadata": {
        "id": "Ssg91izS_NTP"
      },
      "execution_count": null,
      "outputs": []
    }
  ]
}